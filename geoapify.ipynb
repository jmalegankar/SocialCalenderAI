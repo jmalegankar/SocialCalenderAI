{
 "cells": [
  {
   "cell_type": "code",
   "execution_count": 1,
   "metadata": {},
   "outputs": [],
   "source": [
    "import requests"
   ]
  },
  {
   "cell_type": "code",
   "execution_count": 4,
   "metadata": {},
   "outputs": [],
   "source": [
    "# Define the base URL for the API request\n",
    "base_url = \"https://api.geoapify.com/v2/places\"\n",
    "\n",
    "# Define the payload with query parameters\n",
    "payload = {\n",
    "    \"categories\": \"catering.fast_food\",\n",
    "    \"filter\": \"place:5130e0203709815ec059d876a29aedb24240f00101f90111b6010000000000c0020692030953756e6e7976616c65\",\n",
    "    \"limit\": 20,\n",
    "    \"apiKey\": \"9e8a851335544662a60677eeed540e79\"\n",
    "}\n",
    "\n",
    "# Make the GET request to the API with the payload\n",
    "response = requests.get(base_url, params=payload)\n",
    "\n",
    "with open(\"escape_room.txt\", \"w\") as f:\n",
    "    f.write(response.text)"
   ]
  },
  {
   "cell_type": "code",
   "execution_count": 5,
   "metadata": {},
   "outputs": [],
   "source": [
    "# Define the base URL for the API request\n",
    "base_url = \"https://api.geoapify.com/v2/places\"\n",
    "\n",
    "# Define the payload with query parameters\n",
    "payload = {\n",
    "    \"categories\": \"catering.bar\",\n",
    "    \"filter\": \"place:5130e0203709815ec059d876a29aedb24240f00101f90111b6010000000000c0020692030953756e6e7976616c65\",\n",
    "    \"limit\": 20,\n",
    "    \"apiKey\": \"9e8a851335544662a60677eeed540e79\"\n",
    "}\n",
    "\n",
    "# Make the GET request to the API with the payload\n",
    "response = requests.get(base_url, params=payload)\n",
    "\n",
    "with open(\"bars.json\", \"w\") as f:\n",
    "    f.write(response.text)"
   ]
  },
  {
   "cell_type": "code",
   "execution_count": 8,
   "metadata": {},
   "outputs": [],
   "source": [
    "# Define the base URL for the API request\n",
    "base_url = \"https://api.geoapify.com/v2/places\"\n",
    "\n",
    "# Define the payload with query parameters\n",
    "payload = {\n",
    "    \"categories\": \"catering.cafe\",\n",
    "    \"filter\": \"place:5130e0203709815ec059d876a29aedb24240f00101f90111b6010000000000c0020692030953756e6e7976616c65\",\n",
    "    \"limit\": 20,\n",
    "    \"apiKey\": \"9e8a851335544662a60677eeed540e79\"\n",
    "}\n",
    "\n",
    "# Make the GET request to the API with the payload\n",
    "response = requests.get(base_url, params=payload)\n",
    "\n",
    "with open(\"cafes.json\", \"w\") as f:\n",
    "    f.write(response.text)"
   ]
  },
  {
   "cell_type": "code",
   "execution_count": 9,
   "metadata": {},
   "outputs": [],
   "source": [
    "# Define the base URL for the API request\n",
    "base_url = \"https://api.geoapify.com/v2/places\"\n",
    "\n",
    "# Define the payload with query parameters\n",
    "payload = {\n",
    "    \"categories\": \"entertainment.cinema\",\n",
    "    \"filter\": \"place:5130e0203709815ec059d876a29aedb24240f00101f90111b6010000000000c0020692030953756e6e7976616c65\",\n",
    "    \"limit\": 20,\n",
    "    \"apiKey\": \"9e8a851335544662a60677eeed540e79\"\n",
    "}\n",
    "\n",
    "# Make the GET request to the API with the payload\n",
    "response = requests.get(base_url, params=payload)\n",
    "\n",
    "with open(\"cinemas.json\", \"w\") as f:\n",
    "    f.write(response.text)"
   ]
  },
  {
   "cell_type": "code",
   "execution_count": 12,
   "metadata": {},
   "outputs": [],
   "source": [
    "# Define the base URL for the API request\n",
    "base_url = \"https://api.geoapify.com/v2/places\"\n",
    "\n",
    "# Define the payload with query parameters\n",
    "payload = {\n",
    "    \"categories\": \"leisure.park\",\n",
    "    \"filter\": \"place:5130e0203709815ec059d876a29aedb24240f00101f90111b6010000000000c0020692030953756e6e7976616c65\",\n",
    "    \"limit\": 20,\n",
    "    \"apiKey\": \"9e8a851335544662a60677eeed540e79\"\n",
    "}\n",
    "\n",
    "# Make the GET request to the API with the payload\n",
    "response = requests.get(base_url, params=payload)\n",
    "\n",
    "with open(\"parks.json\", \"w\") as f:\n",
    "    f.write(response.text)"
   ]
  },
  {
   "cell_type": "code",
   "execution_count": 14,
   "metadata": {},
   "outputs": [],
   "source": [
    "# Define the base URL for the API request\n",
    "base_url = \"https://api.geoapify.com/v2/places\"\n",
    "\n",
    "# Define the payload with query parameters\n",
    "payload = {\n",
    "    \"categories\": \"catering.restaurant\",\n",
    "    \"filter\": \"place:5130e0203709815ec059d876a29aedb24240f00101f90111b6010000000000c0020692030953756e6e7976616c65\",\n",
    "    \"limit\": 50,\n",
    "    \"apiKey\": \"9e8a851335544662a60677eeed540e79\"\n",
    "}\n",
    "\n",
    "# Make the GET request to the API with the payload\n",
    "response = requests.get(base_url, params=payload)\n",
    "\n",
    "with open(\"restaurant.json\", \"w\") as f:\n",
    "    f.write(response.text)"
   ]
  },
  {
   "cell_type": "code",
   "execution_count": 1,
   "metadata": {},
   "outputs": [
    {
     "name": "stdout",
     "output_type": "stream",
     "text": [
      "Extracted features from fast_food.json and saved to cleaned_json/extracted_fast_food.json\n",
      "Extracted features from restaurant.json and saved to cleaned_json/extracted_restaurant.json\n",
      "Extracted features from cafes.json and saved to cleaned_json/extracted_cafes.json\n",
      "Extracted features from cinemas.json and saved to cleaned_json/extracted_cinemas.json\n",
      "Extracted features from bars.json and saved to cleaned_json/extracted_bars.json\n",
      "Extracted features from parks.json and saved to cleaned_json/extracted_parks.json\n"
     ]
    }
   ],
   "source": [
    "import os\n",
    "import json\n",
    "\n",
    "def extract_and_append(input_folder, output_folder):\n",
    "    # Create the output folder if it doesn't exist\n",
    "    if not os.path.exists(output_folder):\n",
    "        os.makedirs(output_folder)\n",
    "\n",
    "    # Loop through all files in the input folder\n",
    "    for filename in os.listdir(input_folder):\n",
    "        if filename.endswith('.json'):\n",
    "            input_file = os.path.join(input_folder, filename)\n",
    "            output_file = os.path.join(output_folder, f'extracted_{filename}')\n",
    "\n",
    "            with open(input_file, 'r') as f:\n",
    "                data = json.load(f)\n",
    "            \n",
    "            for feature in data['features']:\n",
    "                if 'datasource' in feature['properties']:\n",
    "                    del feature['properties']['datasource']\n",
    "\n",
    "            # Extract only the 'features' list\n",
    "            extracted_data = data['features']\n",
    "\n",
    "            with open(output_file, 'w') as f:\n",
    "                json.dump(extracted_data, f, indent=4)\n",
    "\n",
    "            print(f'Extracted features from {filename} and saved to {output_file}')\n",
    "\n",
    "# Example usage\n",
    "extract_and_append(\"api_responses\", 'cleaned_json')\n"
   ]
  },
  {
   "cell_type": "code",
   "execution_count": null,
   "metadata": {},
   "outputs": [],
   "source": []
  }
 ],
 "metadata": {
  "kernelspec": {
   "display_name": "Python 3",
   "language": "python",
   "name": "python3"
  },
  "language_info": {
   "codemirror_mode": {
    "name": "ipython",
    "version": 3
   },
   "file_extension": ".py",
   "mimetype": "text/x-python",
   "name": "python",
   "nbconvert_exporter": "python",
   "pygments_lexer": "ipython3",
   "version": "3.12.3"
  }
 },
 "nbformat": 4,
 "nbformat_minor": 2
}
